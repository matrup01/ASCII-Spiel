{
 "cells": [
  {
   "cell_type": "code",
   "execution_count": 1,
   "id": "61a1a347-7039-4292-91ce-8890caf55303",
   "metadata": {},
   "outputs": [
    {
     "name": "stdout",
     "output_type": "stream",
     "text": [
      "O0=========================0O\n",
      " |x........................|\n",
      " |.........................|\n",
      " |.........................|\n",
      " |.........................|\n",
      " |.........................|\n",
      " |.........................|\n",
      "O0=========================0O\n"
     ]
    }
   ],
   "source": [
    "import map\n",
    "\n",
    "test = map.Map(25,6)\n",
    "test.printmap()"
   ]
  },
  {
   "cell_type": "code",
   "execution_count": 1,
   "id": "cd920195-ba69-4501-a907-6c322a857b7f",
   "metadata": {},
   "outputs": [
    {
     "name": "stdout",
     "output_type": "stream",
     "text": [
      "Ausgabe\n",
      "tst\n"
     ]
    }
   ],
   "source": [
    "import colors\n",
    "test = colors.Colorpallet()\n",
    "test.printcolor(\"Ausgabe\",16)\n",
    "print(\"tst\")"
   ]
  },
  {
   "cell_type": "code",
   "execution_count": 3,
   "id": "c3139a67-d1a3-4c60-a3c3-6bd7eca0ccd5",
   "metadata": {},
   "outputs": [
    {
     "name": "stdout",
     "output_type": "stream",
     "text": [
      "0\n"
     ]
    }
   ],
   "source": [
    "for i in range(1):\n",
    "    print(i)"
   ]
  },
  {
   "cell_type": "code",
   "execution_count": null,
   "id": "fd26ba5a-b344-4421-8e6e-bc76cd696aaa",
   "metadata": {},
   "outputs": [],
   "source": []
  }
 ],
 "metadata": {
  "kernelspec": {
   "display_name": "Python 3 (ipykernel)",
   "language": "python",
   "name": "python3"
  },
  "language_info": {
   "codemirror_mode": {
    "name": "ipython",
    "version": 3
   },
   "file_extension": ".py",
   "mimetype": "text/x-python",
   "name": "python",
   "nbconvert_exporter": "python",
   "pygments_lexer": "ipython3",
   "version": "3.11.7"
  }
 },
 "nbformat": 4,
 "nbformat_minor": 5
}
