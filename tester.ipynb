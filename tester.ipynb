{
 "cells": [
  {
   "cell_type": "code",
   "execution_count": 1,
   "id": "61a1a347-7039-4292-91ce-8890caf55303",
   "metadata": {},
   "outputs": [
    {
     "name": "stdout",
     "output_type": "stream",
     "text": [
      "0O=============================================O0\n",
      " |\u001b[1;31mx\u001b[0m\u001b[0;33mS\u001b[0m\u001b[0;33mS\u001b[0m\u001b[0;33mS\u001b[0m\u001b[0;33mS\u001b[0m\u001b[0;33mS\u001b[0m\u001b[0;33mS\u001b[0m\u001b[0;33mS\u001b[0m\u001b[0;33mS\u001b[0m\u001b[0;33mS\u001b[0m\u001b[0;33mS\u001b[0m\u001b[0;33mS\u001b[0m\u001b[0;33mS\u001b[0m\u001b[0;33mS\u001b[0m\u001b[0;33mS\u001b[0m\u001b[0;33mS\u001b[0m\u001b[0;33mS\u001b[0m\u001b[0;33mS\u001b[0m\u001b[0;33mS\u001b[0m\u001b[0;33mS\u001b[0m\u001b[0;33mS\u001b[0m\u001b[0;33mS\u001b[0m\u001b[0;33mS\u001b[0m\u001b[0;33mS\u001b[0m\u001b[0;33mS\u001b[0m\u001b[0;33mS\u001b[0m\u001b[0;33mS\u001b[0m\u001b[0;33mS\u001b[0m\u001b[0;33mS\u001b[0m\u001b[0;33mS\u001b[0m\u001b[0;33mS\u001b[0m\u001b[0;33mS\u001b[0m\u001b[0;33mS\u001b[0m\u001b[0;33mS\u001b[0m\u001b[0;33mS\u001b[0m\u001b[0;33mS\u001b[0m\u001b[1;31m~\u001b[0m\u001b[1;31m~\u001b[0m\u001b[1;31m~\u001b[0m\u001b[1;31m~\u001b[0m\u001b[1;31m~\u001b[0m\u001b[1;31m~\u001b[0m\u001b[1;31m~\u001b[0m\u001b[1;31m~\u001b[0m\u001b[0;33mS\u001b[0m|\n",
      " |\u001b[0;33mS\u001b[0m\u001b[0;33mS\u001b[0m\u001b[0;33mS\u001b[0m\u001b[0;33mS\u001b[0m\u001b[0;33mS\u001b[0m\u001b[0;33mS\u001b[0m\u001b[0;33mS\u001b[0m\u001b[0;33mS\u001b[0m\u001b[0;33mS\u001b[0m\u001b[0;33mS\u001b[0m\u001b[0;33mS\u001b[0m\u001b[0;32m8\u001b[0m\u001b[0;32m8\u001b[0m\u001b[0;32m8\u001b[0m\u001b[0;32m8\u001b[0m\u001b[0;32m8\u001b[0m\u001b[0;32m8\u001b[0m\u001b[0;32m8\u001b[0m\u001b[0;32m8\u001b[0m\u001b[0;33mS\u001b[0m\u001b[0;33mS\u001b[0m\u001b[0;33mS\u001b[0m\u001b[0;33mS\u001b[0m\u001b[0;33mS\u001b[0m\u001b[0;33mS\u001b[0m\u001b[0;33mS\u001b[0m\u001b[0;33mS\u001b[0m\u001b[0;33mS\u001b[0m\u001b[0;33mS\u001b[0m\u001b[0;33mS\u001b[0m\u001b[0;33mS\u001b[0m\u001b[0;33mS\u001b[0m\u001b[0;33mS\u001b[0m\u001b[0;33mS\u001b[0m\u001b[0;33mS\u001b[0m\u001b[0;33mS\u001b[0m\u001b[0;33mS\u001b[0m\u001b[1;31m~\u001b[0m\u001b[1;31m~\u001b[0m\u001b[1;31m~\u001b[0m\u001b[1;31m~\u001b[0m\u001b[1;31m~\u001b[0m\u001b[1;31m~\u001b[0m\u001b[1;31m~\u001b[0m\u001b[1;31m~\u001b[0m|\n",
      " |\u001b[0;33mS\u001b[0m\u001b[0;33mS\u001b[0m\u001b[0;33mS\u001b[0m\u001b[0;33mS\u001b[0m\u001b[0;33mS\u001b[0m\u001b[0;33mS\u001b[0m\u001b[0;33mS\u001b[0m\u001b[0;33mS\u001b[0m\u001b[0;33mS\u001b[0m\u001b[0;32m8\u001b[0m\u001b[0;32m8\u001b[0m\u001b[0;34m~\u001b[0m\u001b[0;34m~\u001b[0m\u001b[0;34m~\u001b[0m\u001b[0;34m~\u001b[0m\u001b[0;34m~\u001b[0m\u001b[0;34m~\u001b[0m\u001b[0;34m~\u001b[0m\u001b[0;34m~\u001b[0m\u001b[0;34m~\u001b[0m\u001b[0;33mS\u001b[0m\u001b[0;33mS\u001b[0m\u001b[0;33mS\u001b[0m\u001b[0;33mS\u001b[0m\u001b[0;33mS\u001b[0m\u001b[0;33mS\u001b[0m\u001b[0;33mS\u001b[0mAAAAAAAAA\u001b[0;33mS\u001b[0m\u001b[1;31m~\u001b[0m\u001b[1;31m~\u001b[0m\u001b[1;31m~\u001b[0m\u001b[1;31m~\u001b[0m\u001b[1;31m~\u001b[0m\u001b[1;31m~\u001b[0m\u001b[1;31m~\u001b[0m\u001b[1;31m~\u001b[0m|\n",
      " |\u001b[0;33mS\u001b[0m\u001b[0;33mS\u001b[0m\u001b[0;33mS\u001b[0m\u001b[0;33mS\u001b[0m\u001b[0;33mS\u001b[0m\u001b[0;33mS\u001b[0m\u001b[0;33mS\u001b[0m\u001b[0;33mS\u001b[0m\u001b[0;33mS\u001b[0m\u001b[0;34m~\u001b[0m\u001b[0;34m~\u001b[0m\u001b[0;34m~\u001b[0m\u001b[0;34m~\u001b[0m\u001b[0;34m~\u001b[0m\u001b[0;34m~\u001b[0m\u001b[0;34m~\u001b[0m\u001b[0;34m~\u001b[0m\u001b[0;34m~\u001b[0m\u001b[1;31m~\u001b[0m\u001b[1;31m~\u001b[0m\u001b[1;31m~\u001b[0m\u001b[1;31m~\u001b[0m\u001b[1;31m~\u001b[0m\u001b[1;31m~\u001b[0m\u001b[1;31m~\u001b[0m\u001b[0;33mS\u001b[0mAAAAAAAAA\u001b[1;31m~\u001b[0m\u001b[1;31m~\u001b[0m\u001b[1;31m~\u001b[0m\u001b[1;31m~\u001b[0m\u001b[1;31m~\u001b[0m\u001b[1;31m~\u001b[0m\u001b[1;31m~\u001b[0m\u001b[1;31m~\u001b[0m\u001b[0;33mS\u001b[0m\u001b[0;33mS\u001b[0m|\n",
      " |\u001b[0;33mS\u001b[0m\u001b[0;33mS\u001b[0m\u001b[0;33mS\u001b[0m\u001b[0;33mS\u001b[0m\u001b[0;33mS\u001b[0m\u001b[0;33mS\u001b[0m\u001b[0;33mS\u001b[0m\u001b[0;33mS\u001b[0m\u001b[0;33mS\u001b[0m\u001b[0;33mS\u001b[0m\u001b[0;33mS\u001b[0m\u001b[0;34m~\u001b[0m\u001b[0;34m~\u001b[0m\u001b[0;34m~\u001b[0m\u001b[0;34m~\u001b[0m\u001b[0;34m~\u001b[0m\u001b[0;34m~\u001b[0m\u001b[0;34m~\u001b[0m\u001b[0;30mG\u001b[0m\u001b[0;30mG\u001b[0m\u001b[0;30mG\u001b[0m\u001b[0;30mG\u001b[0m\u001b[0;30mG\u001b[0m\u001b[0;30mG\u001b[0m\u001b[0;30mG\u001b[0m\u001b[0;30mG\u001b[0m\u001b[0;30mG\u001b[0mAAAAAAAA\u001b[0;33mS\u001b[0m\u001b[0;33mS\u001b[0m\u001b[1;31m~\u001b[0m\u001b[1;31m~\u001b[0m\u001b[1;31m~\u001b[0m\u001b[1;31m~\u001b[0m\u001b[1;31m~\u001b[0m\u001b[1;31m~\u001b[0m\u001b[1;31m~\u001b[0m\u001b[1;31m~\u001b[0m|\n",
      " |\u001b[0;33mS\u001b[0m\u001b[0;33mS\u001b[0m\u001b[0;33mS\u001b[0m\u001b[0;33mS\u001b[0m\u001b[0;33mS\u001b[0m\u001b[0;33mS\u001b[0m\u001b[0;33mS\u001b[0m\u001b[0;33mS\u001b[0m\u001b[0;33mS\u001b[0m\u001b[0;33mS\u001b[0m\u001b[0;34m~\u001b[0m\u001b[0;34m~\u001b[0m\u001b[0;34m~\u001b[0m\u001b[0;34m~\u001b[0m\u001b[0;34m~\u001b[0m\u001b[0;34m~\u001b[0m\u001b[0;34m~\u001b[0m\u001b[0;34m~\u001b[0m\u001b[0;30mG\u001b[0m\u001b[0;30mG\u001b[0m\u001b[0;30mG\u001b[0m\u001b[0;30mG\u001b[0m\u001b[0;30mG\u001b[0m\u001b[0;30mG\u001b[0m\u001b[0;30mG\u001b[0m\u001b[0;30mG\u001b[0m\u001b[0;30mG\u001b[0mAAAAAAA\u001b[0;33mS\u001b[0m\u001b[0;33mS\u001b[0m\u001b[0;33mS\u001b[0m\u001b[0;33mS\u001b[0m\u001b[0;33mS\u001b[0m\u001b[0;33mS\u001b[0m\u001b[0;33mS\u001b[0m\u001b[0;33mS\u001b[0m\u001b[0;33mS\u001b[0m\u001b[0;33mS\u001b[0m\u001b[0;33mS\u001b[0m|\n",
      " |\u001b[0;33mS\u001b[0m\u001b[0;33mS\u001b[0m\u001b[0;33mS\u001b[0m\u001b[0;33mS\u001b[0m\u001b[0;33mS\u001b[0m\u001b[0;33mS\u001b[0m\u001b[0;33mS\u001b[0m\u001b[0;33mS\u001b[0m\u001b[0;33mS\u001b[0m\u001b[0;33mS\u001b[0m\u001b[0;33mS\u001b[0m\u001b[0;34m~\u001b[0m\u001b[0;34m~\u001b[0m\u001b[0;34m~\u001b[0m\u001b[0;34m~\u001b[0m\u001b[0;34m~\u001b[0m\u001b[0;30mG\u001b[0m\u001b[0;30mG\u001b[0m\u001b[0;30mG\u001b[0m\u001b[0;30mG\u001b[0m\u001b[0;30mG\u001b[0m\u001b[0;30mG\u001b[0m\u001b[0;30mG\u001b[0m\u001b[0;30mG\u001b[0m\u001b[0;30mG\u001b[0m\u001b[0;33mS\u001b[0m\u001b[0;33mS\u001b[0mAAAAAAAAA\u001b[0;33mS\u001b[0m\u001b[0;33mS\u001b[0m\u001b[0;33mS\u001b[0m\u001b[0;33mS\u001b[0m\u001b[0;33mS\u001b[0m\u001b[0;33mS\u001b[0m\u001b[0;33mS\u001b[0m\u001b[0;33mS\u001b[0m\u001b[0;33mS\u001b[0m|\n",
      " |\u001b[0;33mS\u001b[0m\u001b[0;33mS\u001b[0m\u001b[0;33mS\u001b[0m\u001b[0;33mS\u001b[0m\u001b[0;33mS\u001b[0m\u001b[0;33mS\u001b[0m\u001b[0;33mS\u001b[0m\u001b[0;33mS\u001b[0m\u001b[0;33mS\u001b[0m\u001b[0;33mS\u001b[0m\u001b[0;33mS\u001b[0m\u001b[0;33mS\u001b[0m\u001b[0;33mS\u001b[0m\u001b[0;33mS\u001b[0m\u001b[0;33mS\u001b[0m\u001b[0;33mS\u001b[0m\u001b[0;30mG\u001b[0m\u001b[0;30mG\u001b[0m\u001b[0;30mG\u001b[0m\u001b[0;30mG\u001b[0m\u001b[0;30mG\u001b[0m\u001b[0;30mG\u001b[0m\u001b[0;30mG\u001b[0m\u001b[0;30mG\u001b[0m\u001b[0;30mG\u001b[0m\u001b[0;33mS\u001b[0m\u001b[0;33mS\u001b[0m\u001b[0;33mS\u001b[0m\u001b[0;33mS\u001b[0m\u001b[0;33mS\u001b[0m\u001b[0;33mS\u001b[0m\u001b[0;33mS\u001b[0m\u001b[0;33mS\u001b[0m\u001b[0;33mS\u001b[0m\u001b[0;33mS\u001b[0m\u001b[0;33mS\u001b[0m\u001b[0;33mS\u001b[0m\u001b[0;33mS\u001b[0m\u001b[0;33mS\u001b[0m\u001b[0;33mS\u001b[0m\u001b[0;33mS\u001b[0m\u001b[0;33mS\u001b[0m\u001b[0;33mS\u001b[0m\u001b[0;33mS\u001b[0m\u001b[0;33mS\u001b[0m|\n",
      " |\u001b[0;33mS\u001b[0m\u001b[0;33mS\u001b[0m\u001b[0;33mS\u001b[0m\u001b[0;33mS\u001b[0m\u001b[0;33mS\u001b[0m\u001b[0;33mS\u001b[0m\u001b[0;33mS\u001b[0m\u001b[0;33mS\u001b[0m\u001b[0;33mS\u001b[0m\u001b[0;33mS\u001b[0m\u001b[0;33mS\u001b[0m\u001b[0;33mS\u001b[0m\u001b[0;33mS\u001b[0m\u001b[0;33mS\u001b[0m\u001b[0;33mS\u001b[0m\u001b[0;33mS\u001b[0m\u001b[0;33mS\u001b[0m\u001b[0;33mS\u001b[0m\u001b[0;30mG\u001b[0m\u001b[0;30mG\u001b[0m\u001b[0;30mG\u001b[0m\u001b[0;30mG\u001b[0m\u001b[0;30mG\u001b[0m\u001b[0;30mG\u001b[0m\u001b[0;30mG\u001b[0m\u001b[0;30mG\u001b[0m\u001b[0;30mG\u001b[0m\u001b[0;33mS\u001b[0m\u001b[0;33mS\u001b[0m\u001b[0;33mS\u001b[0m\u001b[0;33mS\u001b[0m\u001b[0;33mS\u001b[0m\u001b[0;33mS\u001b[0m\u001b[0;33mS\u001b[0m\u001b[0;33mS\u001b[0m\u001b[0;33mS\u001b[0m\u001b[0;33mS\u001b[0m\u001b[0;33mS\u001b[0m\u001b[0;33mS\u001b[0m\u001b[0;33mS\u001b[0m\u001b[0;33mS\u001b[0m\u001b[0;33mS\u001b[0m\u001b[0;33mS\u001b[0m\u001b[0;33mS\u001b[0m\u001b[0;33mS\u001b[0m|\n",
      " |\u001b[0;33mS\u001b[0m\u001b[0;33mS\u001b[0m\u001b[0;33mS\u001b[0m\u001b[0;33mS\u001b[0m\u001b[0;33mS\u001b[0m\u001b[0;33mS\u001b[0m\u001b[0;33mS\u001b[0m\u001b[0;33mS\u001b[0m\u001b[0;33mS\u001b[0m\u001b[0;33mS\u001b[0m\u001b[0;33mS\u001b[0m\u001b[0;33mS\u001b[0m\u001b[0;33mS\u001b[0m\u001b[0;33mS\u001b[0m\u001b[0;33mS\u001b[0m\u001b[0;33mS\u001b[0m\u001b[0;33mS\u001b[0m\u001b[0;33mS\u001b[0m\u001b[0;33mS\u001b[0m\u001b[0;33mS\u001b[0m\u001b[0;33mS\u001b[0m\u001b[0;33mS\u001b[0m\u001b[0;33mS\u001b[0m\u001b[0;33mS\u001b[0m\u001b[0;33mS\u001b[0m\u001b[0;33mS\u001b[0m\u001b[0;33mS\u001b[0m\u001b[0;33mS\u001b[0m\u001b[0;33mS\u001b[0m\u001b[0;33mS\u001b[0m\u001b[0;33mS\u001b[0m\u001b[0;33mS\u001b[0m\u001b[0;33mS\u001b[0m\u001b[0;33mS\u001b[0m\u001b[0;33mS\u001b[0m\u001b[0;33mS\u001b[0m\u001b[0;33mS\u001b[0m\u001b[0;33mS\u001b[0m\u001b[0;33mS\u001b[0m\u001b[0;33mS\u001b[0m\u001b[0;33mS\u001b[0m\u001b[0;33mS\u001b[0m\u001b[0;33mS\u001b[0m\u001b[0;33mS\u001b[0m\u001b[0;33mS\u001b[0m|\n",
      "0O=============================================O0\n",
      "0O=============================================O0\n",
      " |777777777777777777777777777777777777999999997|\n",
      " |777777777773333333377777777777777777799999999|\n",
      " |777777777331111111117777777444444444799999999|\n",
      " |777777777111111111999999974444444449999999977|\n",
      " |777777777771111111101010101010101010444444447799999999|\n",
      " |777777777711111111101010101010101010444444477777777777|\n",
      " |777777777771111110101010101010101077444444444777777777|\n",
      " |777777777777777710101010101010101077777777777777777777|\n",
      " |777777777777777777101010101010101010777777777777777777|\n",
      " |777777777777777777777777777777777777777777777|\n",
      "0O=============================================O0\n"
     ]
    }
   ],
   "source": [
    "import map\n",
    "\n",
    "test = map.Map(45,10)\n",
    "test.generate()\n",
    "test.printmap()\n",
    "test.printtyletypes()"
   ]
  },
  {
   "cell_type": "code",
   "execution_count": 1,
   "id": "cd920195-ba69-4501-a907-6c322a857b7f",
   "metadata": {},
   "outputs": [
    {
     "name": "stdout",
     "output_type": "stream",
     "text": [
      "\u001b[0;30m0\u001b[0m\n",
      "\u001b[1;30m1\u001b[0m\n",
      "\u001b[0;31m2\u001b[0m\n",
      "\u001b[1;31m3\u001b[0m\n",
      "\u001b[0;32m4\u001b[0m\n",
      "\u001b[1;32m5\u001b[0m\n",
      "\u001b[0;33m6\u001b[0m\n",
      "\u001b[1;33m7\u001b[0m\n",
      "\u001b[0;34m8\u001b[0m\n",
      "\u001b[1;34m9\u001b[0m\n",
      "\u001b[0;35m10\u001b[0m\n",
      "\u001b[1;35m11\u001b[0m\n",
      "\u001b[0;36m12\u001b[0m\n",
      "\u001b[1;36m13\u001b[0m\n",
      "\u001b[0;37m14\u001b[0m\n",
      "\u001b[1;37m15\u001b[0m\n",
      "16\n",
      "\u001b[0;41m17\u001b[0m\n",
      "\u001b[0;44m18\u001b[0m\n"
     ]
    }
   ],
   "source": [
    "import colors\n",
    "colorer = colors.Colormap()\n",
    "for i in range(19):\n",
    "    colorer.printcolor(str(i),i)"
   ]
  },
  {
   "cell_type": "code",
   "execution_count": 36,
   "id": "c3139a67-d1a3-4c60-a3c3-6bd7eca0ccd5",
   "metadata": {},
   "outputs": [
    {
     "name": "stdout",
     "output_type": "stream",
     "text": [
      "7blablub\n"
     ]
    }
   ],
   "source": [
    "a = \"7blablub7785\"\n",
    "a = a.rstrip(\"1234567890\")\n",
    "print(str(a))"
   ]
  },
  {
   "cell_type": "code",
   "execution_count": 3,
   "id": "fd26ba5a-b344-4421-8e6e-bc76cd696aaa",
   "metadata": {},
   "outputs": [
    {
     "name": "stdout",
     "output_type": "stream",
     "text": [
      "3\n",
      "|\u001b[0;44m \u001b[0m\u001b[0;44m \u001b[0m--------------|\n"
     ]
    }
   ],
   "source": [
    "import player\n",
    "test = player.Player()\n",
    "test.earnxp(99)\n",
    "print(str(test.lvl))\n",
    "test.printxpbar(0,18)"
   ]
  },
  {
   "cell_type": "code",
   "execution_count": 2,
   "id": "c39b7ca9-b332-4e99-aa8e-24996870454d",
   "metadata": {},
   "outputs": [
    {
     "name": "stdout",
     "output_type": "stream",
     "text": [
      "\u001b[0;33mSeelenernter\u001b[0m\u001b[0;33m (Legendärer Dolch)\u001b[0m:\n",
      "     Angriff:      5.0\n",
      "     \u001b[0;32mGift:         \u001b[0m2.0\n",
      "     \u001b[1;31mBlutung:      \u001b[0m4.0\n"
     ]
    },
    {
     "name": "stdin",
     "output_type": "stream",
     "text": [
      "Waffe ausrüsten? (j/n) > j\n"
     ]
    },
    {
     "name": "stdout",
     "output_type": "stream",
     "text": [
      "\u001b[0;33mSeelenernter\u001b[0m\u001b[0;33m (Legendärer Dolch)\u001b[0m wurde links ausgerüstet\n",
      "\u001b[1;34mDolch\u001b[0m:\n",
      "     Angriff:      5.0\n",
      "     \u001b[1;31mBlutung:      \u001b[0m1.0\n",
      "     \u001b[1;31mLebensentzug: \u001b[0m25.0%\n"
     ]
    },
    {
     "name": "stdin",
     "output_type": "stream",
     "text": [
      "Waffe ausrüsten? (j/n) > j\n"
     ]
    },
    {
     "name": "stdout",
     "output_type": "stream",
     "text": [
      "\u001b[1;34mDolch\u001b[0m wurde rechts ausgerüstet\n",
      "Ausgerüstet (Links):\n",
      "     \u001b[0;33mSeelenernter\u001b[0m\u001b[0;33m (Legendärer Dolch)\u001b[0m:\n",
      "          Angriff:      5.0\n",
      "          \u001b[0;32mGift:         \u001b[0m2.0\n",
      "          \u001b[1;31mBlutung:      \u001b[0m4.0\n",
      "Ausgerüster (Rechts):\n",
      "     \u001b[1;34mDolch\u001b[0m:\n",
      "          Angriff:      5.0\n",
      "          \u001b[1;31mBlutung:      \u001b[0m1.0\n",
      "          \u001b[1;31mLebensentzug: \u001b[0m25.0%\n",
      "Neu:\n",
      "     \u001b[0;33mVollender\u001b[0m\u001b[0;33m (Legendäre Axt)\u001b[0m:\n",
      "          Angriff:      15.0\n",
      "          \u001b[0;37mBetäubung:    \u001b[0m1.0\n"
     ]
    },
    {
     "name": "stdin",
     "output_type": "stream",
     "text": [
      "Waffe ausrüsten? (j/n) > j\n",
      "Links oder Rechts? (l/r) > l\n"
     ]
    },
    {
     "name": "stdout",
     "output_type": "stream",
     "text": [
      "\u001b[0;33mVollender\u001b[0m\u001b[0;33m (Legendäre Axt)\u001b[0m wurde links ausgerüstet\n",
      "Harri Hirsch\n",
      "     Linke Hand\n",
      "     \u001b[0;33mVollender\u001b[0m\u001b[0;33m (Legendäre Axt)\u001b[0m:\n",
      "          Angriff:      15.0\n",
      "          \u001b[0;37mBetäubung:    \u001b[0m1.0\n",
      "     Rechte Hand\n",
      "     \u001b[1;34mDolch\u001b[0m:\n",
      "          Angriff:      5.0\n",
      "          \u001b[1;31mBlutung:      \u001b[0m1.0\n",
      "          \u001b[1;31mLebensentzug: \u001b[0m25.0%\n",
      "     LEER (Rüstung)\n",
      "     LEER (Schuhe)\n",
      "     LEER (Helm)\n"
     ]
    }
   ],
   "source": [
    "import items\n",
    "import player\n",
    "\n",
    "tester = player.Player()\n",
    "tester.setname(\"Harri Hirsch\")\n",
    "\n",
    "test = items.Dagger(5,3)\n",
    "test2 = items.Dagger(5,2)\n",
    "test3 = items.Axe(5,3)\n",
    "\n",
    "tester.equipweapon(test)\n",
    "tester.equipweapon(test2)\n",
    "tester.equipweapon(test3)\n",
    "\n",
    "tester.printequip()"
   ]
  },
  {
   "cell_type": "code",
   "execution_count": 63,
   "id": "7be9ad82-cda2-48ef-88c0-283550986982",
   "metadata": {},
   "outputs": [
    {
     "name": "stdout",
     "output_type": "stream",
     "text": [
      "[0, 0, 1, 0, 3, 0, 0, 0, 0]\n",
      "0\n",
      "bla\n",
      "bli\n",
      "blub\n"
     ]
    }
   ],
   "source": [
    "import random\n",
    "a = [2,3,4]\n",
    "b = [1,2,3]\n",
    "c = [True,False,True]\n",
    "d = [0,0,0,0,0,0,0,0,0]\n",
    "for x,y,z in zip(a,b,c):\n",
    "    if z:\n",
    "        d[x] = y\n",
    "\n",
    "print(d)\n",
    "print(str(random.randrange(1)))\n",
    "print(\"bla\"\"\\n\"\"bli\"\"\\n\"\"blub\")"
   ]
  },
  {
   "cell_type": "code",
   "execution_count": 26,
   "id": "fb6a1971-7b65-4996-b6e4-73063086759c",
   "metadata": {},
   "outputs": [
    {
     "name": "stdout",
     "output_type": "stream",
     "text": [
      "Am Horizont nähert sich langsam ein Schiff\n",
      "und aufgrund der Entfernung lässt sich die\n",
      "Flagge nicht erkennen. Doch als es näher\n",
      "kommt, erkennst du die Farben der Handels-\n",
      "gilde von Babrenet. Und wirklich: Bald schon\n",
      "hörst du das Rufen eines Mannes: 'Beste Waren!\n",
      "Direkt aus Babrenet!'\n",
      "\n",
      "Ein nobel gekleideter Mann blickt über \n",
      "die Reling. Als er dich erblickt, erschaudert\n",
      "er! Dein Ruf scheint bis nach Babrenet vor-\n",
      "gedrungen zu sein. Nach einem kurzen Moment\n",
      "fängt sich der Mann gleich wieder und ruft:\n",
      "Arthurius die Rauschkugel!\n",
      "Welche Ehre! Vielleicht kann ich Sie von meiner\n",
      "Ware überzeugen.'\n",
      "An Deck des Schiffs ist nun ein nobel gekleideter\n",
      "Mann zu sehen. Er scheint dich nun auch zu\n",
      "erkennen, denn seine Miene wird plötzlich finster.\n",
      "'Deine abscheulichen Taten sind in ganz Igunia\n",
      "bekannt. Solch Gesinde wird in Babrenet nicht\n",
      "bedient! Zur Untermauerung seiner Worte bohrt\n",
      "sich ein Pfeil in eine Planke neben dir. Du\n",
      "erkennst die Ausweglosigkeit der Situation und\n",
      "gehst deines Weges.\n",
      "Auf dem Schiff gibt sich nobel gekleideter\n",
      "zu erkennen. Mit der Routine eines Geschäfts-\n",
      "mann und ohne eine Gefühlsregung erkennen\n",
      "zu lassen, präsentiert er seine Waren.\n"
     ]
    }
   ],
   "source": [
    "import namegenerator\n",
    "generator = namegenerator.Names()\n",
    "origin =generator.villagename()\n",
    "playername = \"Arthurius die Rauschkugel\"\n",
    "realm = generator.realmname()\n",
    "print(\"Am Horizont nähert sich langsam ein Schiff\"\"\\n\"\n",
    "      \"und aufgrund der Entfernung lässt sich die\"\"\\n\"\n",
    "      \"Flagge nicht erkennen. Doch als es näher\"\"\\n\"\n",
    "      \"kommt, erkennst du die Farben der Handels-\"\"\\n\"\n",
    "      \"gilde von \" + origin + \". Und wirklich: Bald schon\"\"\\n\"\n",
    "      \"hörst du das Rufen eines Mannes: 'Beste Waren!\"\"\\n\"\n",
    "      \"Direkt aus \" + origin + \"!'\")\n",
    "print(\"\")\n",
    "print(\"Ein nobel gekleideter Mann blickt über \"\"\\n\"\n",
    "      \"die Reling. Als er dich erblickt, erschaudert\"\"\\n\"\n",
    "      \"er! Dein Ruf scheint bis nach \" + origin + \" vor-\"\"\\n\"\n",
    "      \"gedrungen zu sein. Nach einem kurzen Moment\"\"\\n\"\n",
    "      \"fängt sich der Mann gleich wieder und ruft:\"\"\\n\"\n",
    "      + playername + \"!\"\"\\n\"\n",
    "      \"Welche Ehre! Vielleicht kann ich Sie von meiner\"\"\\n\"\n",
    "      \"Ware überzeugen.'\")\n",
    "print(\"An Deck des Schiffs ist nun ein nobel gekleideter\"\"\\n\"\n",
    "      \"Mann zu sehen. Er scheint dich nun auch zu\"\"\\n\"\n",
    "      \"erkennen, denn seine Miene wird plötzlich finster.\"\"\\n\"\n",
    "      \"'Deine abscheulichen Taten sind in ganz \" + realm + \"\\n\"\n",
    "      \"bekannt. Solch Gesinde wird in \" + origin + \" nicht\"\"\\n\"\n",
    "      \"bedient! Zur Untermauerung seiner Worte bohrt\"\"\\n\"\n",
    "      \"sich ein Pfeil in eine Planke neben dir. Du\"\"\\n\"\n",
    "      \"erkennst die Ausweglosigkeit der Situation und\"\"\\n\"\n",
    "      \"gehst deines Weges.\")\n",
    "print(\"Auf dem Schiff gibt sich nobel gekleideter\"\"\\n\"\n",
    "      \"zu erkennen. Mit der Routine eines Geschäfts-\"\"\\n\"\n",
    "      \"mann und ohne eine Gefühlsregung erkennen\"\"\\n\"\n",
    "      \"zu lassen, präsentiert er seine Waren.\")"
   ]
  },
  {
   "cell_type": "code",
   "execution_count": null,
   "id": "e9c58c81-0bde-4b89-84c6-549cabf01d02",
   "metadata": {},
   "outputs": [],
   "source": []
  },
  {
   "cell_type": "code",
   "execution_count": null,
   "id": "3fc5b958-4c9f-424a-b6c2-622acd9f82f7",
   "metadata": {},
   "outputs": [],
   "source": []
  }
 ],
 "metadata": {
  "kernelspec": {
   "display_name": "Python 3 (ipykernel)",
   "language": "python",
   "name": "python3"
  },
  "language_info": {
   "codemirror_mode": {
    "name": "ipython",
    "version": 3
   },
   "file_extension": ".py",
   "mimetype": "text/x-python",
   "name": "python",
   "nbconvert_exporter": "python",
   "pygments_lexer": "ipython3",
   "version": "3.11.7"
  }
 },
 "nbformat": 4,
 "nbformat_minor": 5
}
