{
 "cells": [
  {
   "cell_type": "code",
   "execution_count": 15,
   "id": "61a1a347-7039-4292-91ce-8890caf55303",
   "metadata": {},
   "outputs": [
    {
     "name": "stdout",
     "output_type": "stream",
     "text": [
      "0O=============================================O0\n",
      " |\u001b[1;31mx\u001b[0m\u001b[0;32mw\u001b[0m\u001b[0;32mw\u001b[0m\u001b[0;32mw\u001b[0m\u001b[0;32mw\u001b[0m\u001b[0;32mw\u001b[0m\u001b[0;32mw\u001b[0m\u001b[0;32mw\u001b[0m\u001b[0;37ma\u001b[0m\u001b[0;37ma\u001b[0m\u001b[0;37ma\u001b[0m\u001b[0;37ma\u001b[0m\u001b[0;37ma\u001b[0m\u001b[0;37ma\u001b[0m\u001b[0;37ma\u001b[0m\u001b[0;37ma\u001b[0m\u001b[0;37ma\u001b[0m\u001b[0;37ma\u001b[0m\u001b[0;32mw\u001b[0m\u001b[0;32mw\u001b[0m\u001b[0;32mw\u001b[0m\u001b[1;32m8\u001b[0m\u001b[1;32m8\u001b[0m\u001b[1;32m8\u001b[0m\u001b[1;32m8\u001b[0m\u001b[1;32m8\u001b[0m\u001b[1;32m8\u001b[0m\u001b[1;32m8\u001b[0m\u001b[1;32m8\u001b[0m\u001b[0;32mw\u001b[0m\u001b[0;32mw\u001b[0m\u001b[0;32mw\u001b[0m\u001b[0;32mw\u001b[0m\u001b[0;32mw\u001b[0m\u001b[0;32mw\u001b[0m\u001b[0;32mw\u001b[0m\u001b[0;32mw\u001b[0m\u001b[0;32mw\u001b[0m\u001b[0;32mw\u001b[0m\u001b[0;32mw\u001b[0m\u001b[0;32mw\u001b[0m\u001b[0;32mw\u001b[0m\u001b[0;32mw\u001b[0m\u001b[0;32mw\u001b[0m\u001b[0;32mw\u001b[0m|\n",
      " |\u001b[0;32mw\u001b[0m\u001b[0;32mw\u001b[0m\u001b[0;32mw\u001b[0m\u001b[0;30mG\u001b[0m\u001b[0;30mG\u001b[0m\u001b[0;30mG\u001b[0m\u001b[0;30mG\u001b[0m\u001b[0;30mG\u001b[0m\u001b[0;30mG\u001b[0m\u001b[0;30mG\u001b[0m\u001b[0;30mG\u001b[0m\u001b[0;37ma\u001b[0m\u001b[0;37ma\u001b[0m\u001b[0;37ma\u001b[0m\u001b[0;37ma\u001b[0m\u001b[0;37ma\u001b[0m\u001b[0;37ma\u001b[0m\u001b[0;37ma\u001b[0m\u001b[0;32mw\u001b[0m\u001b[0;32mw\u001b[0m\u001b[0;32mw\u001b[0m\u001b[0;32mw\u001b[0m\u001b[0;32mw\u001b[0m\u001b[1;32m8\u001b[0m\u001b[1;32m8\u001b[0m\u001b[1;32m8\u001b[0m\u001b[1;32m8\u001b[0m\u001b[1;32m8\u001b[0m\u001b[1;32m8\u001b[0m\u001b[1;32m8\u001b[0m\u001b[1;32m8\u001b[0m\u001b[0;34m~\u001b[0m\u001b[0;34m~\u001b[0m\u001b[0;34m~\u001b[0m\u001b[0;34m~\u001b[0m\u001b[0;34m~\u001b[0m\u001b[0;34m~\u001b[0m\u001b[0;34m~\u001b[0m\u001b[0;32mw\u001b[0m\u001b[0;32mw\u001b[0m\u001b[0;32mw\u001b[0m\u001b[0;32mw\u001b[0m\u001b[0;32mw\u001b[0m\u001b[0;32mw\u001b[0m\u001b[0;32mw\u001b[0m|\n",
      " |\u001b[0;32mw\u001b[0m\u001b[0;32mw\u001b[0m\u001b[0;32mw\u001b[0m\u001b[0;30mG\u001b[0m\u001b[0;30mG\u001b[0m\u001b[0;30mG\u001b[0m\u001b[0;30mG\u001b[0m\u001b[0;30mG\u001b[0m\u001b[0;30mG\u001b[0m\u001b[0;30mG\u001b[0m\u001b[0;30mG\u001b[0m\u001b[0;37ma\u001b[0m\u001b[1;37mB\u001b[0m\u001b[1;37mB\u001b[0m\u001b[1;37mB\u001b[0m\u001b[1;37mB\u001b[0m\u001b[1;37mB\u001b[0m\u001b[1;37mB\u001b[0m\u001b[1;37mB\u001b[0m\u001b[1;37mB\u001b[0m\u001b[0;32mw\u001b[0m\u001b[1;32m8\u001b[0m\u001b[1;32m8\u001b[0m\u001b[1;32m8\u001b[0m\u001b[1;32m8\u001b[0m\u001b[1;32m8\u001b[0m\u001b[1;32m8\u001b[0m\u001b[1;32m8\u001b[0m\u001b[1;32m8\u001b[0m\u001b[0;34m~\u001b[0m\u001b[0;34m~\u001b[0m\u001b[0;34m~\u001b[0m\u001b[0;34m~\u001b[0m\u001b[0;34m~\u001b[0m\u001b[0;34m~\u001b[0m\u001b[0;34m~\u001b[0m\u001b[0;34m~\u001b[0m\u001b[0;34m~\u001b[0m\u001b[0;32mw\u001b[0m\u001b[0;32mw\u001b[0m\u001b[0;32mw\u001b[0m\u001b[0;32mw\u001b[0m\u001b[0;32mw\u001b[0m\u001b[0;32mw\u001b[0m\u001b[0;32mw\u001b[0m|\n",
      " |\u001b[0;32mw\u001b[0m\u001b[0;32mw\u001b[0m\u001b[0;32mw\u001b[0m\u001b[0;32mw\u001b[0m\u001b[0;30mG\u001b[0m\u001b[0;30mG\u001b[0m\u001b[0;30mG\u001b[0m\u001b[0;30mG\u001b[0m\u001b[0;30mG\u001b[0m\u001b[0;30mG\u001b[0m\u001b[0;30mG\u001b[0m\u001b[0;30mG\u001b[0m\u001b[1;37mB\u001b[0m\u001b[1;37mB\u001b[0m\u001b[1;37mB\u001b[0m\u001b[1;37mB\u001b[0m\u001b[1;37mB\u001b[0m\u001b[1;37mB\u001b[0m\u001b[1;37mB\u001b[0m\u001b[1;37mB\u001b[0m\u001b[0;32mw\u001b[0m\u001b[0;37ma\u001b[0m\u001b[1;32m8\u001b[0m\u001b[1;32m8\u001b[0m\u001b[1;32m8\u001b[0m\u001b[1;32m8\u001b[0m\u001b[1;32m8\u001b[0m\u001b[1;32m8\u001b[0m\u001b[1;32m8\u001b[0m\u001b[1;32m8\u001b[0m\u001b[0;34m~\u001b[0m\u001b[0;34m~\u001b[0m\u001b[0;34m~\u001b[0m\u001b[0;34m~\u001b[0m\u001b[0;34m~\u001b[0m\u001b[0;34m~\u001b[0m\u001b[0;34m~\u001b[0m\u001b[0;34m~\u001b[0m\u001b[0;32mw\u001b[0m\u001b[0;32mw\u001b[0m\u001b[0;32mw\u001b[0m\u001b[0;32mw\u001b[0m\u001b[0;32mw\u001b[0m\u001b[0;32mw\u001b[0m\u001b[0;32mw\u001b[0m|\n",
      " |\u001b[0;32mw\u001b[0m\u001b[0;32mw\u001b[0m\u001b[0;32mw\u001b[0m\u001b[0;30mG\u001b[0m\u001b[0;30mG\u001b[0m\u001b[0;30mG\u001b[0m\u001b[0;30mG\u001b[0m\u001b[0;30mG\u001b[0m\u001b[0;30mG\u001b[0m\u001b[0;30mG\u001b[0m\u001b[0;30mG\u001b[0m\u001b[0;37ma\u001b[0m\u001b[1;37mB\u001b[0m\u001b[1;37mB\u001b[0m\u001b[1;37mB\u001b[0m\u001b[1;37mB\u001b[0m\u001b[1;37mB\u001b[0m\u001b[1;37mB\u001b[0m\u001b[1;37mB\u001b[0m\u001b[1;37mB\u001b[0m\u001b[0;32mw\u001b[0m\u001b[0;37ma\u001b[0m\u001b[1;32m8\u001b[0m\u001b[1;32m8\u001b[0m\u001b[1;32m8\u001b[0m\u001b[1;32m8\u001b[0m\u001b[1;32m8\u001b[0m\u001b[1;32m8\u001b[0m\u001b[1;32m8\u001b[0m\u001b[1;32m8\u001b[0m\u001b[0;34m~\u001b[0m\u001b[0;34m~\u001b[0m\u001b[0;34m~\u001b[0m\u001b[0;34m~\u001b[0m\u001b[0;34m~\u001b[0m\u001b[0;34m~\u001b[0m\u001b[0;34m~\u001b[0m\u001b[0;34m~\u001b[0m\u001b[0;32mw\u001b[0m\u001b[0;32mw\u001b[0m\u001b[0;32mw\u001b[0m\u001b[0;32mw\u001b[0m\u001b[0;32mw\u001b[0m\u001b[0;32mw\u001b[0m\u001b[0;32mw\u001b[0m|\n",
      " |\u001b[0;32mw\u001b[0m\u001b[0;32mw\u001b[0m\u001b[0;32mw\u001b[0m\u001b[0;32mw\u001b[0m\u001b[0;30mG\u001b[0m\u001b[0;30mG\u001b[0m\u001b[0;30mG\u001b[0m\u001b[0;30mG\u001b[0m\u001b[0;30mG\u001b[0m\u001b[0;30mG\u001b[0m\u001b[0;30mG\u001b[0m\u001b[0;30mG\u001b[0m\u001b[1;37mB\u001b[0m\u001b[1;37mB\u001b[0m\u001b[1;37mB\u001b[0m\u001b[1;37mB\u001b[0m\u001b[1;37mB\u001b[0m\u001b[1;37mB\u001b[0m\u001b[1;37mB\u001b[0m\u001b[1;37mB\u001b[0m\u001b[0;32mw\u001b[0m\u001b[0;32mw\u001b[0m\u001b[0;32mw\u001b[0m\u001b[0;31m~\u001b[0m\u001b[0;31m~\u001b[0m\u001b[0;31m~\u001b[0m\u001b[0;31m~\u001b[0m\u001b[0;31m~\u001b[0m\u001b[0;34m~\u001b[0m\u001b[0;34m~\u001b[0m\u001b[0;34m~\u001b[0m\u001b[0;34m~\u001b[0m\u001b[0;34m~\u001b[0m\u001b[0;34m~\u001b[0m\u001b[0;34m~\u001b[0m\u001b[0;34m~\u001b[0m\u001b[0;34m~\u001b[0m\u001b[0;34m~\u001b[0m\u001b[0;34m~\u001b[0m\u001b[0;32mw\u001b[0m\u001b[0;32mw\u001b[0m\u001b[0;32mw\u001b[0m\u001b[0;32mw\u001b[0m\u001b[0;32mw\u001b[0m\u001b[0;32mw\u001b[0m|\n",
      " |\u001b[0;32mw\u001b[0m\u001b[0;32mw\u001b[0m\u001b[0;32mw\u001b[0m\u001b[0;32mw\u001b[0m\u001b[0;32mw\u001b[0m\u001b[0;32mw\u001b[0m\u001b[0;32mw\u001b[0m\u001b[0;32mw\u001b[0m\u001b[0;32mw\u001b[0m\u001b[0;32mw\u001b[0m\u001b[0;32mw\u001b[0m\u001b[0;32mw\u001b[0m\u001b[1;37mB\u001b[0m\u001b[1;37mB\u001b[0m\u001b[1;37mB\u001b[0m\u001b[1;37mB\u001b[0m\u001b[1;37mB\u001b[0m\u001b[1;37mB\u001b[0m\u001b[1;37mB\u001b[0m\u001b[1;37mB\u001b[0m\u001b[0;32mw\u001b[0m\u001b[0;37ma\u001b[0m\u001b[0;37ma\u001b[0m\u001b[0;37ma\u001b[0m\u001b[0;37ma\u001b[0m\u001b[0;31m~\u001b[0m\u001b[0;31m~\u001b[0m\u001b[0;31m~\u001b[0m\u001b[0;31m~\u001b[0m\u001b[0;31m~\u001b[0m\u001b[0;31m~\u001b[0m\u001b[0;31m~\u001b[0m\u001b[0;31m~\u001b[0m\u001b[0;31m~\u001b[0m\u001b[0;31m~\u001b[0m\u001b[0;32mw\u001b[0m\u001b[0;32mw\u001b[0m\u001b[0;32mw\u001b[0m\u001b[0;32mw\u001b[0m\u001b[0;32mw\u001b[0m\u001b[0;32mw\u001b[0m\u001b[0;32mw\u001b[0m\u001b[0;32mw\u001b[0m\u001b[0;32mw\u001b[0m\u001b[0;32mw\u001b[0m|\n",
      " |\u001b[0;32mw\u001b[0m\u001b[0;32mw\u001b[0m\u001b[0;32mw\u001b[0m\u001b[0;32mw\u001b[0m\u001b[0;32mw\u001b[0m\u001b[0;32mw\u001b[0m\u001b[0;32mw\u001b[0m\u001b[0;32mw\u001b[0m\u001b[0;32mw\u001b[0m\u001b[0;32mw\u001b[0m\u001b[0;32mw\u001b[0m\u001b[0;32mw\u001b[0m\u001b[0;32mw\u001b[0m\u001b[0;32mw\u001b[0m\u001b[0;32mw\u001b[0m\u001b[0;32mw\u001b[0m\u001b[0;32mw\u001b[0m\u001b[0;32mw\u001b[0m\u001b[0;32mw\u001b[0m\u001b[0;32mw\u001b[0m\u001b[0;32mw\u001b[0m\u001b[0;37ma\u001b[0m\u001b[0;37ma\u001b[0m\u001b[0;31m~\u001b[0m\u001b[0;31m~\u001b[0m\u001b[0;31m~\u001b[0m\u001b[0;31m~\u001b[0m\u001b[0;31m~\u001b[0m\u001b[0;31m~\u001b[0m\u001b[0;31m~\u001b[0m\u001b[0;31m~\u001b[0m\u001b[0;31m~\u001b[0m\u001b[0;31m~\u001b[0m\u001b[0;37ma\u001b[0m\u001b[0;32mw\u001b[0m\u001b[0;32mw\u001b[0m\u001b[0;32mw\u001b[0m\u001b[0;32mw\u001b[0m\u001b[0;32mw\u001b[0m\u001b[0;32mw\u001b[0m\u001b[0;32mw\u001b[0m\u001b[0;32mw\u001b[0m\u001b[0;32mw\u001b[0m\u001b[0;32mw\u001b[0m\u001b[0;32mw\u001b[0m|\n",
      " |\u001b[0;32mw\u001b[0m\u001b[0;32mw\u001b[0m\u001b[0;32mw\u001b[0m\u001b[0;32mw\u001b[0m\u001b[0;32mw\u001b[0m\u001b[0;32mw\u001b[0m\u001b[0;32mw\u001b[0m\u001b[0;32mw\u001b[0m\u001b[0;32mw\u001b[0m\u001b[0;32mw\u001b[0m\u001b[0;32mw\u001b[0m\u001b[0;32mw\u001b[0m\u001b[0;32mw\u001b[0m\u001b[0;32mw\u001b[0m\u001b[0;32mw\u001b[0m\u001b[0;32mw\u001b[0m\u001b[0;32mw\u001b[0m\u001b[0;32mw\u001b[0m\u001b[0;32mw\u001b[0m\u001b[0;32mw\u001b[0m\u001b[0;32mw\u001b[0m\u001b[0;32mw\u001b[0m\u001b[0;32mw\u001b[0m\u001b[0;32mw\u001b[0m\u001b[0;32mw\u001b[0m\u001b[0;32mw\u001b[0m\u001b[0;32mw\u001b[0m\u001b[0;32mw\u001b[0m\u001b[0;32mw\u001b[0m\u001b[0;32mw\u001b[0m\u001b[0;32mw\u001b[0m\u001b[0;32mw\u001b[0m\u001b[0;32mw\u001b[0m\u001b[0;32mw\u001b[0m\u001b[0;32mw\u001b[0m\u001b[0;32mw\u001b[0m\u001b[0;32mw\u001b[0m\u001b[0;32mw\u001b[0m\u001b[0;32mw\u001b[0m\u001b[0;32mw\u001b[0m\u001b[0;32mw\u001b[0m\u001b[0;32mw\u001b[0m\u001b[0;32mw\u001b[0m\u001b[0;32mw\u001b[0m\u001b[0;32mw\u001b[0m|\n",
      " |\u001b[0;32mw\u001b[0m\u001b[0;32mw\u001b[0m\u001b[0;32mw\u001b[0m\u001b[0;32mw\u001b[0m\u001b[0;32mw\u001b[0m\u001b[0;32mw\u001b[0m\u001b[0;32mw\u001b[0m\u001b[0;32mw\u001b[0m\u001b[0;32mw\u001b[0m\u001b[0;32mw\u001b[0m\u001b[0;32mw\u001b[0m\u001b[0;32mw\u001b[0m\u001b[0;32mw\u001b[0m\u001b[0;32mw\u001b[0m\u001b[0;32mw\u001b[0m\u001b[0;32mw\u001b[0m\u001b[0;32mw\u001b[0m\u001b[0;32mw\u001b[0m\u001b[0;32mw\u001b[0m\u001b[0;32mw\u001b[0m\u001b[0;32mw\u001b[0m\u001b[0;32mw\u001b[0m\u001b[0;32mw\u001b[0m\u001b[0;32mw\u001b[0m\u001b[0;32mw\u001b[0m\u001b[0;32mw\u001b[0m\u001b[0;32mw\u001b[0m\u001b[0;32mw\u001b[0m\u001b[0;32mw\u001b[0m\u001b[0;32mw\u001b[0m\u001b[0;32mw\u001b[0m\u001b[0;32mw\u001b[0m\u001b[0;32mw\u001b[0m\u001b[0;32mw\u001b[0m\u001b[0;32mw\u001b[0m\u001b[0;32mw\u001b[0m\u001b[0;32mw\u001b[0m\u001b[0;32mw\u001b[0m\u001b[0;32mw\u001b[0m\u001b[0;32mw\u001b[0m\u001b[0;32mw\u001b[0m\u001b[0;32mw\u001b[0m\u001b[0;32mw\u001b[0m\u001b[0;32mw\u001b[0m\u001b[0;32mw\u001b[0m|\n",
      "0O=============================================O0\n"
     ]
    }
   ],
   "source": [
    "import map\n",
    "\n",
    "test = map.Map(45,10)\n",
    "test.generate()\n",
    "test.printmap()"
   ]
  },
  {
   "cell_type": "code",
   "execution_count": 18,
   "id": "cd920195-ba69-4501-a907-6c322a857b7f",
   "metadata": {},
   "outputs": [
    {
     "name": "stdout",
     "output_type": "stream",
     "text": [
      "\u001b[0;30m0\u001b[0m\n",
      "\u001b[1;30m1\u001b[0m\n",
      "\u001b[0;31m2\u001b[0m\n",
      "\u001b[1;31m3\u001b[0m\n",
      "\u001b[0;32m4\u001b[0m\n",
      "\u001b[1;32m5\u001b[0m\n",
      "\u001b[0;33m6\u001b[0m\n",
      "\u001b[1;33m7\u001b[0m\n",
      "\u001b[0;34m8\u001b[0m\n",
      "\u001b[1;34m9\u001b[0m\n",
      "\u001b[0;35m10\u001b[0m\n",
      "\u001b[1;35m11\u001b[0m\n",
      "\u001b[0;36m12\u001b[0m\n",
      "\u001b[1;36m13\u001b[0m\n",
      "\u001b[0;37m14\u001b[0m\n",
      "\u001b[1;37m15\u001b[0m\n",
      "16\n"
     ]
    }
   ],
   "source": [
    "import colors\n",
    "colorer = colors.Colormap()\n",
    "for i in range(17):\n",
    "    colorer.printcolor(str(i),i)"
   ]
  },
  {
   "cell_type": "code",
   "execution_count": 39,
   "id": "c3139a67-d1a3-4c60-a3c3-6bd7eca0ccd5",
   "metadata": {},
   "outputs": [
    {
     "name": "stdout",
     "output_type": "stream",
     "text": [
      "1\n"
     ]
    }
   ],
   "source": [
    "import random\n",
    "n = 12\n",
    "test = random.randrange(-1,2)\n",
    "print(test)"
   ]
  },
  {
   "cell_type": "code",
   "execution_count": 43,
   "id": "fd26ba5a-b344-4421-8e6e-bc76cd696aaa",
   "metadata": {},
   "outputs": [
    {
     "name": "stdout",
     "output_type": "stream",
     "text": [
      "blub1\n"
     ]
    }
   ],
   "source": [
    "b = 1\n",
    "print(\"blub\" + str(b))"
   ]
  },
  {
   "cell_type": "code",
   "execution_count": 3,
   "id": "c39b7ca9-b332-4e99-aa8e-24996870454d",
   "metadata": {},
   "outputs": [
    {
     "name": "stdout",
     "output_type": "stream",
     "text": [
      "0\n"
     ]
    }
   ],
   "source": [
    "import map\n",
    "\n",
    "map = map.Map(4,5)\n",
    "print(str(map.getplayerloc()[0]))\n"
   ]
  },
  {
   "cell_type": "code",
   "execution_count": null,
   "id": "7be9ad82-cda2-48ef-88c0-283550986982",
   "metadata": {},
   "outputs": [],
   "source": []
  }
 ],
 "metadata": {
  "kernelspec": {
   "display_name": "Python 3 (ipykernel)",
   "language": "python",
   "name": "python3"
  },
  "language_info": {
   "codemirror_mode": {
    "name": "ipython",
    "version": 3
   },
   "file_extension": ".py",
   "mimetype": "text/x-python",
   "name": "python",
   "nbconvert_exporter": "python",
   "pygments_lexer": "ipython3",
   "version": "3.11.7"
  }
 },
 "nbformat": 4,
 "nbformat_minor": 5
}
