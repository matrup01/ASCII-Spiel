{
 "cells": [
  {
   "cell_type": "code",
   "execution_count": 1,
   "id": "61a1a347-7039-4292-91ce-8890caf55303",
   "metadata": {},
   "outputs": [
    {
     "name": "stdout",
     "output_type": "stream",
     "text": [
      "0O=============================================O0\n",
      " |\u001b[1;31mx\u001b[0m\u001b[0;33mS\u001b[0m\u001b[0;33mS\u001b[0m\u001b[0;33mS\u001b[0m\u001b[0;33mS\u001b[0m\u001b[0;33mS\u001b[0m\u001b[0;33mS\u001b[0m\u001b[0;33mS\u001b[0m\u001b[0;33mS\u001b[0m\u001b[0;33mS\u001b[0m\u001b[0;33mS\u001b[0m\u001b[0;33mS\u001b[0m\u001b[0;33mS\u001b[0m\u001b[0;33mS\u001b[0m\u001b[0;33mS\u001b[0m\u001b[0;33mS\u001b[0m\u001b[0;33mS\u001b[0m\u001b[0;33mS\u001b[0m\u001b[0;33mS\u001b[0m\u001b[0;33mS\u001b[0m\u001b[0;33mS\u001b[0m\u001b[0;33mS\u001b[0m\u001b[0;33mS\u001b[0m\u001b[0;33mS\u001b[0m\u001b[0;33mS\u001b[0m\u001b[0;33mS\u001b[0m\u001b[0;33mS\u001b[0m\u001b[0;33mS\u001b[0m\u001b[0;33mS\u001b[0m\u001b[0;33mS\u001b[0m\u001b[0;33mS\u001b[0m\u001b[0;33mS\u001b[0m\u001b[0;33mS\u001b[0m\u001b[0;33mS\u001b[0m\u001b[0;33mS\u001b[0m\u001b[0;33mS\u001b[0m\u001b[1;31m~\u001b[0m\u001b[1;31m~\u001b[0m\u001b[1;31m~\u001b[0m\u001b[1;31m~\u001b[0m\u001b[1;31m~\u001b[0m\u001b[1;31m~\u001b[0m\u001b[1;31m~\u001b[0m\u001b[1;31m~\u001b[0m\u001b[0;33mS\u001b[0m|\n",
      " |\u001b[0;33mS\u001b[0m\u001b[0;33mS\u001b[0m\u001b[0;33mS\u001b[0m\u001b[0;33mS\u001b[0m\u001b[0;33mS\u001b[0m\u001b[0;33mS\u001b[0m\u001b[0;33mS\u001b[0m\u001b[0;33mS\u001b[0m\u001b[0;33mS\u001b[0m\u001b[0;33mS\u001b[0m\u001b[0;33mS\u001b[0m\u001b[0;32m8\u001b[0m\u001b[0;32m8\u001b[0m\u001b[0;32m8\u001b[0m\u001b[0;32m8\u001b[0m\u001b[0;32m8\u001b[0m\u001b[0;32m8\u001b[0m\u001b[0;32m8\u001b[0m\u001b[0;32m8\u001b[0m\u001b[0;33mS\u001b[0m\u001b[0;33mS\u001b[0m\u001b[0;33mS\u001b[0m\u001b[0;33mS\u001b[0m\u001b[0;33mS\u001b[0m\u001b[0;33mS\u001b[0m\u001b[0;33mS\u001b[0m\u001b[0;33mS\u001b[0m\u001b[0;33mS\u001b[0m\u001b[0;33mS\u001b[0m\u001b[0;33mS\u001b[0m\u001b[0;33mS\u001b[0m\u001b[0;33mS\u001b[0m\u001b[0;33mS\u001b[0m\u001b[0;33mS\u001b[0m\u001b[0;33mS\u001b[0m\u001b[0;33mS\u001b[0m\u001b[0;33mS\u001b[0m\u001b[1;31m~\u001b[0m\u001b[1;31m~\u001b[0m\u001b[1;31m~\u001b[0m\u001b[1;31m~\u001b[0m\u001b[1;31m~\u001b[0m\u001b[1;31m~\u001b[0m\u001b[1;31m~\u001b[0m\u001b[1;31m~\u001b[0m|\n",
      " |\u001b[0;33mS\u001b[0m\u001b[0;33mS\u001b[0m\u001b[0;33mS\u001b[0m\u001b[0;33mS\u001b[0m\u001b[0;33mS\u001b[0m\u001b[0;33mS\u001b[0m\u001b[0;33mS\u001b[0m\u001b[0;33mS\u001b[0m\u001b[0;33mS\u001b[0m\u001b[0;32m8\u001b[0m\u001b[0;32m8\u001b[0m\u001b[0;34m~\u001b[0m\u001b[0;34m~\u001b[0m\u001b[0;34m~\u001b[0m\u001b[0;34m~\u001b[0m\u001b[0;34m~\u001b[0m\u001b[0;34m~\u001b[0m\u001b[0;34m~\u001b[0m\u001b[0;34m~\u001b[0m\u001b[0;34m~\u001b[0m\u001b[0;33mS\u001b[0m\u001b[0;33mS\u001b[0m\u001b[0;33mS\u001b[0m\u001b[0;33mS\u001b[0m\u001b[0;33mS\u001b[0m\u001b[0;33mS\u001b[0m\u001b[0;33mS\u001b[0mAAAAAAAAA\u001b[0;33mS\u001b[0m\u001b[1;31m~\u001b[0m\u001b[1;31m~\u001b[0m\u001b[1;31m~\u001b[0m\u001b[1;31m~\u001b[0m\u001b[1;31m~\u001b[0m\u001b[1;31m~\u001b[0m\u001b[1;31m~\u001b[0m\u001b[1;31m~\u001b[0m|\n",
      " |\u001b[0;33mS\u001b[0m\u001b[0;33mS\u001b[0m\u001b[0;33mS\u001b[0m\u001b[0;33mS\u001b[0m\u001b[0;33mS\u001b[0m\u001b[0;33mS\u001b[0m\u001b[0;33mS\u001b[0m\u001b[0;33mS\u001b[0m\u001b[0;33mS\u001b[0m\u001b[0;34m~\u001b[0m\u001b[0;34m~\u001b[0m\u001b[0;34m~\u001b[0m\u001b[0;34m~\u001b[0m\u001b[0;34m~\u001b[0m\u001b[0;34m~\u001b[0m\u001b[0;34m~\u001b[0m\u001b[0;34m~\u001b[0m\u001b[0;34m~\u001b[0m\u001b[1;31m~\u001b[0m\u001b[1;31m~\u001b[0m\u001b[1;31m~\u001b[0m\u001b[1;31m~\u001b[0m\u001b[1;31m~\u001b[0m\u001b[1;31m~\u001b[0m\u001b[1;31m~\u001b[0m\u001b[0;33mS\u001b[0mAAAAAAAAA\u001b[1;31m~\u001b[0m\u001b[1;31m~\u001b[0m\u001b[1;31m~\u001b[0m\u001b[1;31m~\u001b[0m\u001b[1;31m~\u001b[0m\u001b[1;31m~\u001b[0m\u001b[1;31m~\u001b[0m\u001b[1;31m~\u001b[0m\u001b[0;33mS\u001b[0m\u001b[0;33mS\u001b[0m|\n",
      " |\u001b[0;33mS\u001b[0m\u001b[0;33mS\u001b[0m\u001b[0;33mS\u001b[0m\u001b[0;33mS\u001b[0m\u001b[0;33mS\u001b[0m\u001b[0;33mS\u001b[0m\u001b[0;33mS\u001b[0m\u001b[0;33mS\u001b[0m\u001b[0;33mS\u001b[0m\u001b[0;33mS\u001b[0m\u001b[0;33mS\u001b[0m\u001b[0;34m~\u001b[0m\u001b[0;34m~\u001b[0m\u001b[0;34m~\u001b[0m\u001b[0;34m~\u001b[0m\u001b[0;34m~\u001b[0m\u001b[0;34m~\u001b[0m\u001b[0;34m~\u001b[0m\u001b[0;30mG\u001b[0m\u001b[0;30mG\u001b[0m\u001b[0;30mG\u001b[0m\u001b[0;30mG\u001b[0m\u001b[0;30mG\u001b[0m\u001b[0;30mG\u001b[0m\u001b[0;30mG\u001b[0m\u001b[0;30mG\u001b[0m\u001b[0;30mG\u001b[0mAAAAAAAA\u001b[0;33mS\u001b[0m\u001b[0;33mS\u001b[0m\u001b[1;31m~\u001b[0m\u001b[1;31m~\u001b[0m\u001b[1;31m~\u001b[0m\u001b[1;31m~\u001b[0m\u001b[1;31m~\u001b[0m\u001b[1;31m~\u001b[0m\u001b[1;31m~\u001b[0m\u001b[1;31m~\u001b[0m|\n",
      " |\u001b[0;33mS\u001b[0m\u001b[0;33mS\u001b[0m\u001b[0;33mS\u001b[0m\u001b[0;33mS\u001b[0m\u001b[0;33mS\u001b[0m\u001b[0;33mS\u001b[0m\u001b[0;33mS\u001b[0m\u001b[0;33mS\u001b[0m\u001b[0;33mS\u001b[0m\u001b[0;33mS\u001b[0m\u001b[0;34m~\u001b[0m\u001b[0;34m~\u001b[0m\u001b[0;34m~\u001b[0m\u001b[0;34m~\u001b[0m\u001b[0;34m~\u001b[0m\u001b[0;34m~\u001b[0m\u001b[0;34m~\u001b[0m\u001b[0;34m~\u001b[0m\u001b[0;30mG\u001b[0m\u001b[0;30mG\u001b[0m\u001b[0;30mG\u001b[0m\u001b[0;30mG\u001b[0m\u001b[0;30mG\u001b[0m\u001b[0;30mG\u001b[0m\u001b[0;30mG\u001b[0m\u001b[0;30mG\u001b[0m\u001b[0;30mG\u001b[0mAAAAAAA\u001b[0;33mS\u001b[0m\u001b[0;33mS\u001b[0m\u001b[0;33mS\u001b[0m\u001b[0;33mS\u001b[0m\u001b[0;33mS\u001b[0m\u001b[0;33mS\u001b[0m\u001b[0;33mS\u001b[0m\u001b[0;33mS\u001b[0m\u001b[0;33mS\u001b[0m\u001b[0;33mS\u001b[0m\u001b[0;33mS\u001b[0m|\n",
      " |\u001b[0;33mS\u001b[0m\u001b[0;33mS\u001b[0m\u001b[0;33mS\u001b[0m\u001b[0;33mS\u001b[0m\u001b[0;33mS\u001b[0m\u001b[0;33mS\u001b[0m\u001b[0;33mS\u001b[0m\u001b[0;33mS\u001b[0m\u001b[0;33mS\u001b[0m\u001b[0;33mS\u001b[0m\u001b[0;33mS\u001b[0m\u001b[0;34m~\u001b[0m\u001b[0;34m~\u001b[0m\u001b[0;34m~\u001b[0m\u001b[0;34m~\u001b[0m\u001b[0;34m~\u001b[0m\u001b[0;30mG\u001b[0m\u001b[0;30mG\u001b[0m\u001b[0;30mG\u001b[0m\u001b[0;30mG\u001b[0m\u001b[0;30mG\u001b[0m\u001b[0;30mG\u001b[0m\u001b[0;30mG\u001b[0m\u001b[0;30mG\u001b[0m\u001b[0;30mG\u001b[0m\u001b[0;33mS\u001b[0m\u001b[0;33mS\u001b[0mAAAAAAAAA\u001b[0;33mS\u001b[0m\u001b[0;33mS\u001b[0m\u001b[0;33mS\u001b[0m\u001b[0;33mS\u001b[0m\u001b[0;33mS\u001b[0m\u001b[0;33mS\u001b[0m\u001b[0;33mS\u001b[0m\u001b[0;33mS\u001b[0m\u001b[0;33mS\u001b[0m|\n",
      " |\u001b[0;33mS\u001b[0m\u001b[0;33mS\u001b[0m\u001b[0;33mS\u001b[0m\u001b[0;33mS\u001b[0m\u001b[0;33mS\u001b[0m\u001b[0;33mS\u001b[0m\u001b[0;33mS\u001b[0m\u001b[0;33mS\u001b[0m\u001b[0;33mS\u001b[0m\u001b[0;33mS\u001b[0m\u001b[0;33mS\u001b[0m\u001b[0;33mS\u001b[0m\u001b[0;33mS\u001b[0m\u001b[0;33mS\u001b[0m\u001b[0;33mS\u001b[0m\u001b[0;33mS\u001b[0m\u001b[0;30mG\u001b[0m\u001b[0;30mG\u001b[0m\u001b[0;30mG\u001b[0m\u001b[0;30mG\u001b[0m\u001b[0;30mG\u001b[0m\u001b[0;30mG\u001b[0m\u001b[0;30mG\u001b[0m\u001b[0;30mG\u001b[0m\u001b[0;30mG\u001b[0m\u001b[0;33mS\u001b[0m\u001b[0;33mS\u001b[0m\u001b[0;33mS\u001b[0m\u001b[0;33mS\u001b[0m\u001b[0;33mS\u001b[0m\u001b[0;33mS\u001b[0m\u001b[0;33mS\u001b[0m\u001b[0;33mS\u001b[0m\u001b[0;33mS\u001b[0m\u001b[0;33mS\u001b[0m\u001b[0;33mS\u001b[0m\u001b[0;33mS\u001b[0m\u001b[0;33mS\u001b[0m\u001b[0;33mS\u001b[0m\u001b[0;33mS\u001b[0m\u001b[0;33mS\u001b[0m\u001b[0;33mS\u001b[0m\u001b[0;33mS\u001b[0m\u001b[0;33mS\u001b[0m\u001b[0;33mS\u001b[0m|\n",
      " |\u001b[0;33mS\u001b[0m\u001b[0;33mS\u001b[0m\u001b[0;33mS\u001b[0m\u001b[0;33mS\u001b[0m\u001b[0;33mS\u001b[0m\u001b[0;33mS\u001b[0m\u001b[0;33mS\u001b[0m\u001b[0;33mS\u001b[0m\u001b[0;33mS\u001b[0m\u001b[0;33mS\u001b[0m\u001b[0;33mS\u001b[0m\u001b[0;33mS\u001b[0m\u001b[0;33mS\u001b[0m\u001b[0;33mS\u001b[0m\u001b[0;33mS\u001b[0m\u001b[0;33mS\u001b[0m\u001b[0;33mS\u001b[0m\u001b[0;33mS\u001b[0m\u001b[0;30mG\u001b[0m\u001b[0;30mG\u001b[0m\u001b[0;30mG\u001b[0m\u001b[0;30mG\u001b[0m\u001b[0;30mG\u001b[0m\u001b[0;30mG\u001b[0m\u001b[0;30mG\u001b[0m\u001b[0;30mG\u001b[0m\u001b[0;30mG\u001b[0m\u001b[0;33mS\u001b[0m\u001b[0;33mS\u001b[0m\u001b[0;33mS\u001b[0m\u001b[0;33mS\u001b[0m\u001b[0;33mS\u001b[0m\u001b[0;33mS\u001b[0m\u001b[0;33mS\u001b[0m\u001b[0;33mS\u001b[0m\u001b[0;33mS\u001b[0m\u001b[0;33mS\u001b[0m\u001b[0;33mS\u001b[0m\u001b[0;33mS\u001b[0m\u001b[0;33mS\u001b[0m\u001b[0;33mS\u001b[0m\u001b[0;33mS\u001b[0m\u001b[0;33mS\u001b[0m\u001b[0;33mS\u001b[0m\u001b[0;33mS\u001b[0m|\n",
      " |\u001b[0;33mS\u001b[0m\u001b[0;33mS\u001b[0m\u001b[0;33mS\u001b[0m\u001b[0;33mS\u001b[0m\u001b[0;33mS\u001b[0m\u001b[0;33mS\u001b[0m\u001b[0;33mS\u001b[0m\u001b[0;33mS\u001b[0m\u001b[0;33mS\u001b[0m\u001b[0;33mS\u001b[0m\u001b[0;33mS\u001b[0m\u001b[0;33mS\u001b[0m\u001b[0;33mS\u001b[0m\u001b[0;33mS\u001b[0m\u001b[0;33mS\u001b[0m\u001b[0;33mS\u001b[0m\u001b[0;33mS\u001b[0m\u001b[0;33mS\u001b[0m\u001b[0;33mS\u001b[0m\u001b[0;33mS\u001b[0m\u001b[0;33mS\u001b[0m\u001b[0;33mS\u001b[0m\u001b[0;33mS\u001b[0m\u001b[0;33mS\u001b[0m\u001b[0;33mS\u001b[0m\u001b[0;33mS\u001b[0m\u001b[0;33mS\u001b[0m\u001b[0;33mS\u001b[0m\u001b[0;33mS\u001b[0m\u001b[0;33mS\u001b[0m\u001b[0;33mS\u001b[0m\u001b[0;33mS\u001b[0m\u001b[0;33mS\u001b[0m\u001b[0;33mS\u001b[0m\u001b[0;33mS\u001b[0m\u001b[0;33mS\u001b[0m\u001b[0;33mS\u001b[0m\u001b[0;33mS\u001b[0m\u001b[0;33mS\u001b[0m\u001b[0;33mS\u001b[0m\u001b[0;33mS\u001b[0m\u001b[0;33mS\u001b[0m\u001b[0;33mS\u001b[0m\u001b[0;33mS\u001b[0m\u001b[0;33mS\u001b[0m|\n",
      "0O=============================================O0\n",
      "0O=============================================O0\n",
      " |777777777777777777777777777777777777999999997|\n",
      " |777777777773333333377777777777777777799999999|\n",
      " |777777777331111111117777777444444444799999999|\n",
      " |777777777111111111999999974444444449999999977|\n",
      " |777777777771111111101010101010101010444444447799999999|\n",
      " |777777777711111111101010101010101010444444477777777777|\n",
      " |777777777771111110101010101010101077444444444777777777|\n",
      " |777777777777777710101010101010101077777777777777777777|\n",
      " |777777777777777777101010101010101010777777777777777777|\n",
      " |777777777777777777777777777777777777777777777|\n",
      "0O=============================================O0\n"
     ]
    }
   ],
   "source": [
    "import map\n",
    "\n",
    "test = map.Map(45,10)\n",
    "test.generate()\n",
    "test.printmap()\n",
    "test.printtyletypes()"
   ]
  },
  {
   "cell_type": "code",
   "execution_count": 1,
   "id": "cd920195-ba69-4501-a907-6c322a857b7f",
   "metadata": {},
   "outputs": [
    {
     "name": "stdout",
     "output_type": "stream",
     "text": [
      "\u001b[0;30m0\u001b[0m\n",
      "\u001b[1;30m1\u001b[0m\n",
      "\u001b[0;31m2\u001b[0m\n",
      "\u001b[1;31m3\u001b[0m\n",
      "\u001b[0;32m4\u001b[0m\n",
      "\u001b[1;32m5\u001b[0m\n",
      "\u001b[0;33m6\u001b[0m\n",
      "\u001b[1;33m7\u001b[0m\n",
      "\u001b[0;34m8\u001b[0m\n",
      "\u001b[1;34m9\u001b[0m\n",
      "\u001b[0;35m10\u001b[0m\n",
      "\u001b[1;35m11\u001b[0m\n",
      "\u001b[0;36m12\u001b[0m\n",
      "\u001b[1;36m13\u001b[0m\n",
      "\u001b[0;37m14\u001b[0m\n",
      "\u001b[1;37m15\u001b[0m\n",
      "16\n",
      "\u001b[0;41m17\u001b[0m\n",
      "\u001b[0;44m18\u001b[0m\n"
     ]
    }
   ],
   "source": [
    "import colors\n",
    "colorer = colors.Colormap()\n",
    "for i in range(19):\n",
    "    colorer.printcolor(str(i),i)"
   ]
  },
  {
   "cell_type": "code",
   "execution_count": 36,
   "id": "c3139a67-d1a3-4c60-a3c3-6bd7eca0ccd5",
   "metadata": {},
   "outputs": [
    {
     "name": "stdout",
     "output_type": "stream",
     "text": [
      "7blablub\n"
     ]
    }
   ],
   "source": [
    "a = \"7blablub7785\"\n",
    "a = a.rstrip(\"1234567890\")\n",
    "print(str(a))"
   ]
  },
  {
   "cell_type": "code",
   "execution_count": 3,
   "id": "fd26ba5a-b344-4421-8e6e-bc76cd696aaa",
   "metadata": {},
   "outputs": [
    {
     "name": "stdout",
     "output_type": "stream",
     "text": [
      "3\n",
      "|\u001b[0;44m \u001b[0m\u001b[0;44m \u001b[0m--------------|\n"
     ]
    }
   ],
   "source": [
    "import player\n",
    "test = player.Player()\n",
    "test.earnxp(99)\n",
    "print(str(test.lvl))\n",
    "test.printxpbar(0,18)"
   ]
  },
  {
   "cell_type": "code",
   "execution_count": 1,
   "id": "c39b7ca9-b332-4e99-aa8e-24996870454d",
   "metadata": {},
   "outputs": [
    {
     "name": "stdout",
     "output_type": "stream",
     "text": [
      "\u001b[0;33mSeelenernter\u001b[0m\u001b[0;33m (Legendärer Dolch)\u001b[0m:\n",
      "     Angriff:      5.0\n",
      "     \u001b[1;31mBlutung:      \u001b[0m5.0\n",
      "     \u001b[1;31mLebensentzug: \u001b[0m12.5%\n"
     ]
    },
    {
     "name": "stdin",
     "output_type": "stream",
     "text": [
      "Waffe ausrüsten? (j/n) > j\n"
     ]
    },
    {
     "name": "stdout",
     "output_type": "stream",
     "text": [
      "\u001b[0;33mSeelenernter\u001b[0m\u001b[0;33m (Legendärer Dolch)\u001b[0m wurde rechts ausgerüstet\n"
     ]
    },
    {
     "ename": "TypeError",
     "evalue": "'module' object is not callable",
     "output_type": "error",
     "traceback": [
      "\u001b[1;31m---------------------------------------------------------------------------\u001b[0m",
      "\u001b[1;31mTypeError\u001b[0m                                 Traceback (most recent call last)",
      "Cell \u001b[1;32mIn[1], line 10\u001b[0m\n\u001b[0;32m      8\u001b[0m test \u001b[38;5;241m=\u001b[39m items\u001b[38;5;241m.\u001b[39mDagger(\u001b[38;5;241m5\u001b[39m,\u001b[38;5;241m3\u001b[39m)\n\u001b[0;32m      9\u001b[0m tester\u001b[38;5;241m.\u001b[39mequipweapon(test)\n\u001b[1;32m---> 10\u001b[0m looter \u001b[38;5;241m=\u001b[39m loot(\u001b[38;5;241m1\u001b[39m,player,\u001b[38;5;241m17\u001b[39m)\n\u001b[0;32m     11\u001b[0m looter\u001b[38;5;241m.\u001b[39mrun()\n\u001b[0;32m     12\u001b[0m tester\u001b[38;5;241m.\u001b[39mprinteequip()\n",
      "\u001b[1;31mTypeError\u001b[0m: 'module' object is not callable"
     ]
    }
   ],
   "source": [
    "import items\n",
    "import player\n",
    "import loot\n",
    "\n",
    "tester = player.Player()\n",
    "tester.setname(\"Harri Hirsch\")\n",
    "\n",
    "test = items.Dagger(5,3)\n",
    "tester.equipweapon(test)\n",
    "looter = loot(1,player,17)\n",
    "looter.run()\n",
    "tester.printeequip()"
   ]
  },
  {
   "cell_type": "code",
   "execution_count": 12,
   "id": "7be9ad82-cda2-48ef-88c0-283550986982",
   "metadata": {},
   "outputs": [
    {
     "name": "stdout",
     "output_type": "stream",
     "text": [
      "[0, 0, 1, 0, 3, 0, 0, 0, 0]\n",
      "0.9434157450997241\n",
      "bla\n",
      "bli\n",
      "blub\n"
     ]
    }
   ],
   "source": [
    "import random\n",
    "a = [2,3,4]\n",
    "b = [1,2,3]\n",
    "c = [True,False,True]\n",
    "d = [0,0,0,0,0,0,0,0,0]\n",
    "for x,y,z in zip(a,b,c):\n",
    "    if z:\n",
    "        d[x] = y\n",
    "\n",
    "print(d)\n",
    "print(str(random.random()))\n",
    "print(\"bla\"\"\\n\"\"bli\"\"\\n\"\"blub\")"
   ]
  },
  {
   "cell_type": "code",
   "execution_count": 8,
   "id": "fb6a1971-7b65-4996-b6e4-73063086759c",
   "metadata": {},
   "outputs": [
    {
     "name": "stdout",
     "output_type": "stream",
     "text": [
      "Am Horizont nähert sich langsam ein Schiff\n",
      "und aufgrund der Entfernung lässt sich die\n",
      "Flagge nicht erkennen. Doch als es näher\n",
      "kommt, erkennst du die Farben der Handels-\n",
      "gilde von Halvogor. Und wirklich: Bald schon\n",
      "hörst du das Rufen eines Mannes: 'Beste Waren!\n",
      "Direkt aus Halvogor!'\n",
      "\n",
      "In einiger Entfernung taucht ein Schiff auf. Als\n",
      "es näher kommt, erkennst du zerfetzte Segel und\n",
      "einen morschen Rumpf. Es handelt sich um ein\n",
      "Geisterschiff. Möchtest du an Bord gehen und es\n",
      "untersuchen?\n",
      "An Bord des Schiffes hörst du es knarren und\n",
      "knacksen. Du ignorierst dein mulmiges Gefühl\n",
      "und suchst weiter nach Schätzen. Doch dein Mut\n",
      "wird nicht belohnt. Gerade als du einen viel-\n",
      "versprechenden Raum betrittst, gibt das Holz\n",
      "unter dir nach und du stürtzt in den Bauch des\n",
      "Schiffs. (\u001b[1;31m- 2HP\u001b[0m) Durch deinen Aufprall wird\n",
      "die Struktur des Schiffs geschädigt und Wasser\n",
      "dringt ein. Du kannst es gerade noch rechtzeitig\n",
      "verlassen, bevor es untergeht.\n"
     ]
    }
   ],
   "source": [
    "import namegenerator\n",
    "import colors\n",
    "generator = namegenerator.Names()\n",
    "origin =generator.villagename()\n",
    "playername = \"Arthurius die Rauschkugel\"\n",
    "realm = generator.realmname()\n",
    "colorer = colors.Colormap()\n",
    "print(\"Am Horizont nähert sich langsam ein Schiff\"\"\\n\"\n",
    "      \"und aufgrund der Entfernung lässt sich die\"\"\\n\"\n",
    "      \"Flagge nicht erkennen. Doch als es näher\"\"\\n\"\n",
    "      \"kommt, erkennst du die Farben der Handels-\"\"\\n\"\n",
    "      \"gilde von \" + origin + \". Und wirklich: Bald schon\"\"\\n\"\n",
    "      \"hörst du das Rufen eines Mannes: 'Beste Waren!\"\"\\n\"\n",
    "      \"Direkt aus \" + origin + \"!'\")\n",
    "print(\"\")\n",
    "print(\"In einiger Entfernung taucht ein Schiff auf. Als\"\"\\n\"\n",
    "      \"es näher kommt, erkennst du zerfetzte Segel und\"\"\\n\"\n",
    "      \"einen morschen Rumpf. Es handelt sich um ein\"\"\\n\"\n",
    "      \"Geisterschiff. Möchtest du an Bord gehen und es\"\"\\n\"\n",
    "      \"untersuchen?\")\n",
    "print(\"An Bord des Schiffes hörst du es knarren und\"\"\\n\"\n",
    "      \"knacksen. Du ignorierst dein mulmiges Gefühl\"\"\\n\"\n",
    "      \"und suchst weiter nach Schätzen. Doch dein Mut\"\"\\n\"\n",
    "      \"wird nicht belohnt. Gerade als du einen viel-\"\"\\n\"\n",
    "      \"versprechenden Raum betrittst, gibt das Holz\"\"\\n\"\n",
    "      \"unter dir nach und du stürtzt in den Bauch des\"\"\\n\"\n",
    "      \"Schiffs. (\" + colorer.returncolor(\"- 2HP\",3) + \") Durch deinen Aufprall wird\"\"\\n\"\n",
    "      \"die Struktur des Schiffs geschädigt und Wasser\"\"\\n\"\n",
    "      \"dringt ein. Du kannst es gerade noch rechtzeitig\"\"\\n\"\n",
    "      \"verlassen, bevor es untergeht.\")"
   ]
  },
  {
   "cell_type": "code",
   "execution_count": 135,
   "id": "e9c58c81-0bde-4b89-84c6-549cabf01d02",
   "metadata": {},
   "outputs": [
    {
     "name": "stdout",
     "output_type": "stream",
     "text": [
      "nein\n"
     ]
    }
   ],
   "source": [
    "import random\n",
    "a = random.choices([1,2,3],[1,1,1])\n",
    "if random.randrange(2) == 1:\n",
    "    print(a[0])\n",
    "else:\n",
    "    print(\"nein\")"
   ]
  },
  {
   "cell_type": "code",
   "execution_count": 16,
   "id": "3fc5b958-4c9f-424a-b6c2-622acd9f82f7",
   "metadata": {},
   "outputs": [
    {
     "name": "stdout",
     "output_type": "stream",
     "text": [
      "\u001b[0;32mG4\u001b[0m\n"
     ]
    }
   ],
   "source": [
    "import colors\n",
    "colorer = colors.Colormap()\n",
    "b = 1 + 3\n",
    "a = colorer.returncolor(\"G\" + str(b),4)\n",
    "print(a)"
   ]
  },
  {
   "cell_type": "code",
   "execution_count": null,
   "id": "9cfb5917-8302-4002-8a4b-575c3af185c2",
   "metadata": {},
   "outputs": [],
   "source": []
  }
 ],
 "metadata": {
  "kernelspec": {
   "display_name": "Python 3 (ipykernel)",
   "language": "python",
   "name": "python3"
  },
  "language_info": {
   "codemirror_mode": {
    "name": "ipython",
    "version": 3
   },
   "file_extension": ".py",
   "mimetype": "text/x-python",
   "name": "python",
   "nbconvert_exporter": "python",
   "pygments_lexer": "ipython3",
   "version": "3.11.7"
  }
 },
 "nbformat": 4,
 "nbformat_minor": 5
}
